{
 "cells": [
  {
   "cell_type": "code",
   "execution_count": null,
   "id": "4558b3df",
   "metadata": {},
   "outputs": [],
   "source": []
  },
  {
   "cell_type": "code",
   "execution_count": 12,
   "id": "11da07cf",
   "metadata": {},
   "outputs": [],
   "source": [
    "# LSTM for sequence classification in the IMDB dataset\n",
    "import numpy\n",
    "from keras.datasets import imdb\n",
    "from keras.models import Sequential\n",
    "from keras.layers import Dense\n",
    "from keras.layers import LSTM\n",
    "from keras.layers import Embedding\n",
    "from keras.preprocessing import sequence\n",
    "# fix random seed for reproducibility\n",
    "numpy.random.seed(7)"
   ]
  },
  {
   "cell_type": "code",
   "execution_count": null,
   "id": "9aba1080",
   "metadata": {},
   "outputs": [],
   "source": []
  },
  {
   "cell_type": "code",
   "execution_count": 13,
   "id": "41046ad4",
   "metadata": {},
   "outputs": [
    {
     "name": "stdout",
     "output_type": "stream",
     "text": [
      "WARNING:tensorflow:The `nb_words` argument in `load_data` has been renamed `num_words`.\n"
     ]
    }
   ],
   "source": [
    "# load the dataset but only keep the top n words, zero the rest\n",
    "top_words = 5000\n",
    "(X_train, y_train), (X_test, y_test) = imdb.load_data(nb_words=top_words)"
   ]
  },
  {
   "cell_type": "code",
   "execution_count": 14,
   "id": "d8936c7d",
   "metadata": {},
   "outputs": [
    {
     "name": "stdout",
     "output_type": "stream",
     "text": [
      "[1, 778, 128, 74, 12, 630, 163, 15, 4, 1766, 2, 1051, 2, 32, 85, 156, 45, 40, 148, 139, 121, 664, 665, 10, 10, 1361, 173, 4, 749, 2, 16, 3804, 8, 4, 226, 65, 12, 43, 127, 24, 2, 10, 10]\n",
      "<class 'list'>\n",
      "43\n"
     ]
    }
   ],
   "source": [
    "print(X_train[5])\n",
    "print(type(X_train[1]))\n",
    "print(len(X_train[5]))"
   ]
  },
  {
   "cell_type": "code",
   "execution_count": null,
   "id": "b5069b0b",
   "metadata": {},
   "outputs": [],
   "source": []
  },
  {
   "cell_type": "code",
   "execution_count": null,
   "id": "ed250927",
   "metadata": {},
   "outputs": [],
   "source": []
  },
  {
   "cell_type": "code",
   "execution_count": 15,
   "id": "477f535e",
   "metadata": {},
   "outputs": [
    {
     "name": "stdout",
     "output_type": "stream",
     "text": [
      "0: 12500\n",
      "1: 12500\n"
     ]
    }
   ],
   "source": [
    "from collections import Counter\n",
    "\n",
    "def count_values(y_test):\n",
    "    # Use Counter to count occurrences of each value in the array\n",
    "    value_counts = Counter(y_test)\n",
    "    \n",
    "    # Print the counts\n",
    "    for value, count in value_counts.items():\n",
    "        print(f\"{value}: {count}\")\n",
    "\n",
    "# Example usage:\n",
    "#array = [1, 2, 3, 4, 1, 2, 3, 1, 2, 4, 5]\n",
    "count_values(y_test)\n"
   ]
  },
  {
   "cell_type": "code",
   "execution_count": 16,
   "id": "01859b27",
   "metadata": {},
   "outputs": [],
   "source": [
    "## It's means that the given data is already balance data"
   ]
  },
  {
   "cell_type": "code",
   "execution_count": null,
   "id": "40e05435",
   "metadata": {},
   "outputs": [],
   "source": []
  },
  {
   "cell_type": "code",
   "execution_count": null,
   "id": "2113cd80",
   "metadata": {},
   "outputs": [],
   "source": []
  },
  {
   "cell_type": "code",
   "execution_count": 17,
   "id": "c1844123",
   "metadata": {
    "scrolled": true
   },
   "outputs": [
    {
     "name": "stdout",
     "output_type": "stream",
     "text": [
      "(25000, 600)\n",
      "[   0    0    0    0    0    0    0    0    0    0    0    0    0    0\n",
      "    0    0    0    0    0    0    0    0    0    0    0    0    0    0\n",
      "    0    0    0    0    0    0    0    0    0    0    0    0    0    0\n",
      "    0    0    0    0    0    0    0    0    0    0    0    0    0    0\n",
      "    0    0    0    0    0    0    0    0    0    0    0    0    0    0\n",
      "    0    0    0    0    0    0    0    0    0    0    0    0    0    0\n",
      "    0    0    0    0    0    0    0    0    0    0    0    0    0    0\n",
      "    0    0    0    0    0    0    0    0    0    0    0    0    0    0\n",
      "    0    0    0    0    0    0    0    0    0    0    0    0    0    0\n",
      "    0    0    0    0    0    0    0    0    0    0    0    0    0    0\n",
      "    0    0    0    0    0    0    0    0    0    0    0    0    0    0\n",
      "    0    0    0    0    0    0    0    0    0    0    0    0    0    0\n",
      "    0    0    0    0    0    0    0    0    0    0    0    0    0    0\n",
      "    0    0    0    0    0    0    0    0    0    0    0    0    0    0\n",
      "    0    0    0    0    0    0    0    0    0    0    0    0    0    0\n",
      "    0    0    0    0    0    0    0    0    0    0    0    0    0    0\n",
      "    0    0    0    0    0    0    0    0    0    0    0    0    0    0\n",
      "    0    0    0    0    0    0    0    0    0    0    0    0    0    0\n",
      "    0    0    0    0    0    0    0    0    0    0    0    0    0    0\n",
      "    0    0    0    0    0    0    0    0    0    0    0    0    0    0\n",
      "    0    0    0    0    0    0    0    0    0    0    0    0    0    0\n",
      "    0    0    0    0    0    0    0    0    0    0    0    0    0    0\n",
      "    0    0    0    0    0    0    0    0    0    0    0    0    0    0\n",
      "    0    0    0    0    0    0    0    0    0    0    0    0    0    0\n",
      "    0    0    0    0    0    0    0    0    0    0    0    0    0    0\n",
      "    0    0    0    0    0    0    0    0    0    0    0    0    0    0\n",
      "    0    0    0    0    0    0    0    0    0    0    0    0    0    0\n",
      "    0    0    0    0    0    0    0    0    0    0    0    0    0    0\n",
      "    0    0    0    0    0    0    0    0    0    0    0    0    0    0\n",
      "    0    0    0    0    0    1  194 1153  194    2   78  228    5    6\n",
      " 1463 4369    2  134   26    4  715    8  118 1634   14  394   20   13\n",
      "  119  954  189  102    5  207  110 3103   21   14   69  188    8   30\n",
      "   23    7    4  249  126   93    4  114    9 2300 1523    5  647    4\n",
      "  116    9   35    2    4  229    9  340 1322    4  118    9    4  130\n",
      " 4901   19    4 1002    5   89   29  952   46   37    4  455    9   45\n",
      "   43   38 1543 1905  398    4 1649   26    2    5  163   11 3215    2\n",
      "    4 1153    9  194  775    7    2    2  349 2637  148  605    2    2\n",
      "   15  123  125   68    2    2   15  349  165 4362   98    5    4  228\n",
      "    9   43    2 1157   15  299  120    5  120  174   11  220  175  136\n",
      "   50    9 4373  228    2    5    2  656  245 2350    5    4    2  131\n",
      "  152  491   18    2   32    2 1212   14    9    6  371   78   22  625\n",
      "   64 1382    9    8  168  145   23    4 1690   15   16    4 1355    5\n",
      "   28    6   52  154  462   33   89   78  285   16  145   95]\n"
     ]
    }
   ],
   "source": [
    "# truncate and/or pad input sequences\n",
    "max_review_length = 600\n",
    "X_train = sequence.pad_sequences(X_train, maxlen=max_review_length)\n",
    "X_test = sequence.pad_sequences(X_test, maxlen=max_review_length)\n",
    "\n",
    "print(X_train.shape)\n",
    "print(X_train[1])"
   ]
  },
  {
   "cell_type": "code",
   "execution_count": 18,
   "id": "a1e89486",
   "metadata": {},
   "outputs": [
    {
     "name": "stdout",
     "output_type": "stream",
     "text": [
      "Model: \"sequential_2\"\n",
      "_________________________________________________________________\n",
      " Layer (type)                Output Shape              Param #   \n",
      "=================================================================\n",
      " embedding_2 (Embedding)     (None, 600, 32)           160032    \n",
      "                                                                 \n",
      " lstm_2 (LSTM)               (None, 100)               53200     \n",
      "                                                                 \n",
      " dense_2 (Dense)             (None, 1)                 101       \n",
      "                                                                 \n",
      "=================================================================\n",
      "Total params: 213333 (833.33 KB)\n",
      "Trainable params: 213333 (833.33 KB)\n",
      "Non-trainable params: 0 (0.00 Byte)\n",
      "_________________________________________________________________\n",
      "None\n"
     ]
    }
   ],
   "source": [
    "# create the model\n",
    "embedding_vecor_length = 32\n",
    "model = Sequential()\n",
    "model.add(Embedding(top_words+1, embedding_vecor_length, input_length=max_review_length))\n",
    "model.add(LSTM(100))\n",
    "model.add(Dense(1, activation='sigmoid'))\n",
    "model.compile(loss='binary_crossentropy', optimizer='adam', metrics=['accuracy'])\n",
    "print(model.summary()) "
   ]
  },
  {
   "cell_type": "code",
   "execution_count": 19,
   "id": "55bb6ed6",
   "metadata": {},
   "outputs": [
    {
     "name": "stdout",
     "output_type": "stream",
     "text": [
      "Epoch 1/10\n",
      "391/391 [==============================] - 397s 1s/step - loss: 0.4649 - accuracy: 0.7706 - val_loss: 0.3256 - val_accuracy: 0.8637\n",
      "Epoch 2/10\n",
      "391/391 [==============================] - 399s 1s/step - loss: 0.2957 - accuracy: 0.8803 - val_loss: 0.3064 - val_accuracy: 0.8722\n",
      "Epoch 3/10\n",
      "391/391 [==============================] - 398s 1s/step - loss: 0.2494 - accuracy: 0.9049 - val_loss: 0.3122 - val_accuracy: 0.8688\n",
      "Epoch 4/10\n",
      "391/391 [==============================] - 418s 1s/step - loss: 0.2195 - accuracy: 0.9145 - val_loss: 0.3589 - val_accuracy: 0.8598\n",
      "Epoch 5/10\n",
      "391/391 [==============================] - 383s 981ms/step - loss: 0.1885 - accuracy: 0.9284 - val_loss: 0.3337 - val_accuracy: 0.8746\n",
      "Epoch 6/10\n",
      "391/391 [==============================] - 391s 999ms/step - loss: 0.1658 - accuracy: 0.9387 - val_loss: 0.3588 - val_accuracy: 0.8672\n",
      "Epoch 7/10\n",
      "391/391 [==============================] - 388s 992ms/step - loss: 0.1529 - accuracy: 0.9438 - val_loss: 0.4106 - val_accuracy: 0.8607\n",
      "Epoch 8/10\n",
      "391/391 [==============================] - 387s 990ms/step - loss: 0.1275 - accuracy: 0.9526 - val_loss: 0.3938 - val_accuracy: 0.8637\n",
      "Epoch 9/10\n",
      "391/391 [==============================] - 384s 981ms/step - loss: 0.2073 - accuracy: 0.9139 - val_loss: 0.4088 - val_accuracy: 0.8560\n",
      "Epoch 10/10\n",
      "391/391 [==============================] - 383s 981ms/step - loss: 0.1909 - accuracy: 0.9224 - val_loss: 0.3872 - val_accuracy: 0.8593\n",
      "Accuracy: 85.93%\n"
     ]
    }
   ],
   "source": [
    "model.fit(X_train, y_train, validation_data=(X_test, y_test), epochs=10, batch_size=64)\n",
    "#model.fit(X_train, y_train, epoch=10, batch_size=64)\n",
    "# Final evaluation of the model\n",
    "scores = model.evaluate(X_test, y_test, verbose=0)\n",
    "print(\"Accuracy: %.2f%%\" % (scores[1]*100))"
   ]
  },
  {
   "cell_type": "code",
   "execution_count": null,
   "id": "7bf5f7df",
   "metadata": {},
   "outputs": [],
   "source": [
    "# Model Accuracy may change due to retraining."
   ]
  },
  {
   "cell_type": "markdown",
   "id": "1999b4f9",
   "metadata": {},
   "source": [
    "# LSTM for Sequence Classification with Dropout"
   ]
  },
  {
   "cell_type": "markdown",
   "id": "2b774a48",
   "metadata": {},
   "source": [
    "## Recurrent neural networks like LSTM generally have the problem of overfitting.\n",
    "Dropout can be applied between layers using the Dropout Keras layer. You can do this easily by adding new Dropout layers between the Embedding and LSTM layers and the LSTM and Dense output layers. For example"
   ]
  },
  {
   "cell_type": "code",
   "execution_count": 20,
   "id": "70baa021",
   "metadata": {},
   "outputs": [],
   "source": [
    "from tensorflow.keras.layers import Dropout"
   ]
  },
  {
   "cell_type": "code",
   "execution_count": 21,
   "id": "aaf29631",
   "metadata": {},
   "outputs": [
    {
     "name": "stdout",
     "output_type": "stream",
     "text": [
      "Model: \"sequential_3\"\n",
      "_________________________________________________________________\n",
      " Layer (type)                Output Shape              Param #   \n",
      "=================================================================\n",
      " embedding_3 (Embedding)     (None, 600, 32)           160000    \n",
      "                                                                 \n",
      " dropout_2 (Dropout)         (None, 600, 32)           0         \n",
      "                                                                 \n",
      " lstm_3 (LSTM)               (None, 100)               53200     \n",
      "                                                                 \n",
      " dropout_3 (Dropout)         (None, 100)               0         \n",
      "                                                                 \n",
      " dense_3 (Dense)             (None, 1)                 101       \n",
      "                                                                 \n",
      "=================================================================\n",
      "Total params: 213301 (833.21 KB)\n",
      "Trainable params: 213301 (833.21 KB)\n",
      "Non-trainable params: 0 (0.00 Byte)\n",
      "_________________________________________________________________\n",
      "None\n"
     ]
    }
   ],
   "source": [
    "# create the model\n",
    "embedding_vecor_length = 32\n",
    "model1 = Sequential()\n",
    "model1.add(Embedding(top_words, embedding_vecor_length, input_length=max_review_length))\n",
    "model1.add(Dropout(0.2))\n",
    "model1.add(LSTM(100))\n",
    "model1.add(Dropout(0.2))\n",
    "model1.add(Dense(1, activation='sigmoid'))\n",
    "model1.compile(loss='binary_crossentropy', optimizer='adam', metrics=['accuracy'])\n",
    "print(model1.summary())"
   ]
  },
  {
   "cell_type": "code",
   "execution_count": 22,
   "id": "7f402c21",
   "metadata": {},
   "outputs": [
    {
     "name": "stdout",
     "output_type": "stream",
     "text": [
      "Epoch 1/10\n",
      "391/391 [==============================] - 309s 786ms/step - loss: 0.4617 - accuracy: 0.7778\n",
      "Epoch 2/10\n",
      "391/391 [==============================] - 315s 806ms/step - loss: 0.2828 - accuracy: 0.8866\n",
      "Epoch 3/10\n",
      "391/391 [==============================] - 330s 844ms/step - loss: 0.2702 - accuracy: 0.8928\n",
      "Epoch 4/10\n",
      "391/391 [==============================] - 328s 838ms/step - loss: 0.2176 - accuracy: 0.9168\n",
      "Epoch 5/10\n",
      "391/391 [==============================] - 338s 864ms/step - loss: 0.2150 - accuracy: 0.9162\n",
      "Epoch 6/10\n",
      "391/391 [==============================] - 352s 899ms/step - loss: 0.1986 - accuracy: 0.9248\n",
      "Epoch 7/10\n",
      "391/391 [==============================] - 346s 886ms/step - loss: 0.1742 - accuracy: 0.9345\n",
      "Epoch 8/10\n",
      "391/391 [==============================] - 349s 892ms/step - loss: 0.1550 - accuracy: 0.9422\n",
      "Epoch 9/10\n",
      "391/391 [==============================] - 351s 899ms/step - loss: 0.1457 - accuracy: 0.9452\n",
      "Epoch 10/10\n",
      "391/391 [==============================] - 350s 896ms/step - loss: 0.1321 - accuracy: 0.9518\n",
      "Accuracy: 86.85%\n"
     ]
    }
   ],
   "source": [
    "model1.fit(X_train, y_train, epochs=10, batch_size=64)\n",
    "# Final evaluation of the model\n",
    "scores = model1.evaluate(X_test, y_test, verbose=0)\n",
    "print(\"Accuracy: %.2f%%\" % (scores[1]*100))"
   ]
  },
  {
   "cell_type": "code",
   "execution_count": null,
   "id": "b398bf91",
   "metadata": {},
   "outputs": [],
   "source": [
    "# Model Accuracy may change due to retraining."
   ]
  },
  {
   "cell_type": "code",
   "execution_count": null,
   "id": "378022d8",
   "metadata": {},
   "outputs": [],
   "source": []
  },
  {
   "cell_type": "markdown",
   "id": "15c9ffa1",
   "metadata": {},
   "source": [
    "We apply Convolution Nural Network with the sequence learning"
   ]
  },
  {
   "cell_type": "code",
   "execution_count": 23,
   "id": "c22d5ae1",
   "metadata": {},
   "outputs": [],
   "source": [
    "from tensorflow.keras.layers import Conv1D\n",
    "from tensorflow.keras.layers import MaxPooling1D"
   ]
  },
  {
   "cell_type": "code",
   "execution_count": 24,
   "id": "1f89fdc6",
   "metadata": {},
   "outputs": [],
   "source": [
    "model = Sequential()\n",
    "model.add(Embedding(top_words, embedding_vecor_length, input_length=max_review_length))\n",
    "model.add(Conv1D(filters=32, kernel_size=3, padding='same', activation='relu'))\n",
    "model.add(MaxPooling1D(pool_size=2))\n",
    "model.add(LSTM(100))\n",
    "model.add(Dense(1, activation='sigmoid'))\n",
    "model.compile(loss='binary_crossentropy', optimizer='adam', metrics=['accuracy'])"
   ]
  },
  {
   "cell_type": "code",
   "execution_count": 25,
   "id": "09a764e3",
   "metadata": {},
   "outputs": [
    {
     "name": "stdout",
     "output_type": "stream",
     "text": [
      "Model: \"sequential_4\"\n",
      "_________________________________________________________________\n",
      " Layer (type)                Output Shape              Param #   \n",
      "=================================================================\n",
      " embedding_4 (Embedding)     (None, 600, 32)           160000    \n",
      "                                                                 \n",
      " conv1d (Conv1D)             (None, 600, 32)           3104      \n",
      "                                                                 \n",
      " max_pooling1d (MaxPooling1  (None, 300, 32)           0         \n",
      " D)                                                              \n",
      "                                                                 \n",
      " lstm_4 (LSTM)               (None, 100)               53200     \n",
      "                                                                 \n",
      " dense_4 (Dense)             (None, 1)                 101       \n",
      "                                                                 \n",
      "=================================================================\n",
      "Total params: 216405 (845.33 KB)\n",
      "Trainable params: 216405 (845.33 KB)\n",
      "Non-trainable params: 0 (0.00 Byte)\n",
      "_________________________________________________________________\n",
      "None\n"
     ]
    }
   ],
   "source": [
    "print(model.summary())"
   ]
  },
  {
   "cell_type": "code",
   "execution_count": 26,
   "id": "3146e289",
   "metadata": {},
   "outputs": [
    {
     "name": "stdout",
     "output_type": "stream",
     "text": [
      "Epoch 1/10\n",
      "391/391 [==============================] - 211s 534ms/step - loss: 0.4189 - accuracy: 0.7954\n",
      "Epoch 2/10\n",
      "391/391 [==============================] - 209s 535ms/step - loss: 0.2459 - accuracy: 0.9034\n",
      "Epoch 3/10\n",
      "391/391 [==============================] - 213s 545ms/step - loss: 0.2042 - accuracy: 0.9233\n",
      "Epoch 4/10\n",
      "391/391 [==============================] - 211s 540ms/step - loss: 0.1653 - accuracy: 0.9398\n",
      "Epoch 5/10\n",
      "391/391 [==============================] - 207s 531ms/step - loss: 0.1407 - accuracy: 0.9502\n",
      "Epoch 6/10\n",
      "391/391 [==============================] - 202s 516ms/step - loss: 0.1083 - accuracy: 0.9638\n",
      "Epoch 7/10\n",
      "391/391 [==============================] - 199s 510ms/step - loss: 0.0926 - accuracy: 0.9700\n",
      "Epoch 8/10\n",
      "391/391 [==============================] - 205s 523ms/step - loss: 0.0745 - accuracy: 0.9775\n",
      "Epoch 9/10\n",
      "391/391 [==============================] - 200s 512ms/step - loss: 0.0637 - accuracy: 0.9802\n",
      "Epoch 10/10\n",
      "391/391 [==============================] - 195s 500ms/step - loss: 0.0468 - accuracy: 0.9873\n",
      "Accuracy: 87.10%\n"
     ]
    }
   ],
   "source": [
    "model.fit(X_train, y_train, epochs=10, batch_size=64)\n",
    "# Final evaluation of the model\n",
    "scores = model.evaluate(X_test, y_test, verbose=0)\n",
    "print(\"Accuracy: %.2f%%\" % (scores[1]*100))"
   ]
  },
  {
   "cell_type": "code",
   "execution_count": null,
   "id": "f268d0cc",
   "metadata": {},
   "outputs": [],
   "source": [
    "# Model Accuracy may change due to retraining."
   ]
  },
  {
   "cell_type": "code",
   "execution_count": null,
   "id": "261e95b1",
   "metadata": {},
   "outputs": [],
   "source": []
  },
  {
   "cell_type": "code",
   "execution_count": null,
   "id": "e275bf7e",
   "metadata": {},
   "outputs": [],
   "source": []
  },
  {
   "cell_type": "code",
   "execution_count": 27,
   "id": "c1f2a69d",
   "metadata": {},
   "outputs": [],
   "source": [
    "model = Sequential()\n",
    "model.add(Embedding(top_words, embedding_vecor_length, input_length=max_review_length))\n",
    "model.add(LSTM(100, return_sequences=True))  # LSTM with return_sequences=True\n",
    "model.add(Conv1D(filters=32, kernel_size=3, padding='same', activation='relu'))\n",
    "model.add(MaxPooling1D(pool_size=2))\n",
    "model.add(LSTM(100))\n",
    "model.add(Dense(1, activation='sigmoid'))\n",
    "model.compile(loss='binary_crossentropy', optimizer='adam', metrics=['accuracy'])\n"
   ]
  },
  {
   "cell_type": "code",
   "execution_count": 28,
   "id": "678a5ac1",
   "metadata": {},
   "outputs": [
    {
     "name": "stdout",
     "output_type": "stream",
     "text": [
      "Model: \"sequential_5\"\n",
      "_________________________________________________________________\n",
      " Layer (type)                Output Shape              Param #   \n",
      "=================================================================\n",
      " embedding_5 (Embedding)     (None, 600, 32)           160000    \n",
      "                                                                 \n",
      " lstm_5 (LSTM)               (None, 600, 100)          53200     \n",
      "                                                                 \n",
      " conv1d_1 (Conv1D)           (None, 600, 32)           9632      \n",
      "                                                                 \n",
      " max_pooling1d_1 (MaxPoolin  (None, 300, 32)           0         \n",
      " g1D)                                                            \n",
      "                                                                 \n",
      " lstm_6 (LSTM)               (None, 100)               53200     \n",
      "                                                                 \n",
      " dense_5 (Dense)             (None, 1)                 101       \n",
      "                                                                 \n",
      "=================================================================\n",
      "Total params: 276133 (1.05 MB)\n",
      "Trainable params: 276133 (1.05 MB)\n",
      "Non-trainable params: 0 (0.00 Byte)\n",
      "_________________________________________________________________\n",
      "None\n"
     ]
    }
   ],
   "source": [
    "print(model.summary())"
   ]
  },
  {
   "cell_type": "code",
   "execution_count": 29,
   "id": "0e32b56c",
   "metadata": {},
   "outputs": [],
   "source": [
    "# Here we Probem with parameter,we see before that (None,1) but here we see that (None,300,1)"
   ]
  },
  {
   "cell_type": "code",
   "execution_count": 30,
   "id": "350d06db",
   "metadata": {},
   "outputs": [
    {
     "name": "stdout",
     "output_type": "stream",
     "text": [
      "Epoch 1/3\n",
      "391/391 [==============================] - 583s 1s/step - loss: 0.4305 - accuracy: 0.7925\n",
      "Epoch 2/3\n",
      "391/391 [==============================] - 627s 2s/step - loss: 0.2663 - accuracy: 0.8945\n",
      "Epoch 3/3\n",
      "391/391 [==============================] - 599s 2s/step - loss: 0.2198 - accuracy: 0.9147\n",
      "Accuracy: 88.84%\n"
     ]
    }
   ],
   "source": [
    "model.fit(X_train, y_train, epochs=3, batch_size=64)\n",
    "# Final evaluation of the model\n",
    "scores = model.evaluate(X_test, y_test, verbose=0)\n",
    "print(\"Accuracy: %.2f%%\" % (scores[1]*100))"
   ]
  },
  {
   "cell_type": "code",
   "execution_count": null,
   "id": "233856f2",
   "metadata": {},
   "outputs": [],
   "source": []
  },
  {
   "cell_type": "code",
   "execution_count": null,
   "id": "b3d21e8e",
   "metadata": {},
   "outputs": [],
   "source": []
  }
 ],
 "metadata": {
  "kernelspec": {
   "display_name": "Python 3 (ipykernel)",
   "language": "python",
   "name": "python3"
  },
  "language_info": {
   "codemirror_mode": {
    "name": "ipython",
    "version": 3
   },
   "file_extension": ".py",
   "mimetype": "text/x-python",
   "name": "python",
   "nbconvert_exporter": "python",
   "pygments_lexer": "ipython3",
   "version": "3.10.8"
  }
 },
 "nbformat": 4,
 "nbformat_minor": 5
}
